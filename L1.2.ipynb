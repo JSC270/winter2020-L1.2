{
 "cells": [
  {
   "cell_type": "markdown",
   "metadata": {},
   "source": [
    "*JSC270, Winter 2020 - Prof. Chevalier*\n",
    "\n",
    "# <center>  Laboratory 1.2 - \"Hello JSC270\"  </center>\n",
    "## <center> Reflection </center>\n",
    "\n",
    "### <center> Due Date: January 13, 12:00pm (noon) </center>\n",
    "<center> This assignment is individual. </center>\n",
    "\n"
   ]
  },
  {
   "cell_type": "markdown",
   "metadata": {},
   "source": [
    "***\n",
    "\n",
    "<div style=\"background-color: #f7f7f7; padding:10px;\">\n",
    "    \n",
    "<h3> Objectives </h3>\n",
    "\n",
    "Reflect on lessons learned; critical reasoning\n",
    "\n",
    "<h3> Instructions </h3>\n",
    "\n",
    "<ul>\n",
    "    <li> Make a copy of this notebook: <a href=\"https://classroom.github.com/a/WvwjmKdW\">https://classroom.github.com/a/WvwjmKdW</a></li>\n",
    "    <li> Answer the questions in the cells that indicate where your answers should be placed. </li>\n",
    "    <li> Commit and push changes to the Github classroom repository (see submission instructions below).</li>\n",
    "    <li>Submit a pdf report to Quercus (see submission instructions below).</li>\n",
    "</ul>\n",
    "\n",
    "</div>\n",
    "\n",
    "***\n"
   ]
  },
  {
   "cell_type": "markdown",
   "metadata": {},
   "source": [
    "**Question 1.** What are the top three things that you learned, working on Laboratory 1 (1.0 and 1.1)?"
   ]
  },
  {
   "cell_type": "markdown",
   "metadata": {},
   "source": [
    "*Answer to Question 1*"
   ]
  },
  {
   "cell_type": "markdown",
   "metadata": {},
   "source": [
    "**Question 2.** What challenges did you face in Laboratory 1 (1.0 and 1.1)? How did you overcome these challenges?"
   ]
  },
  {
   "cell_type": "markdown",
   "metadata": {},
   "source": [
    "*Answer to Question 2*"
   ]
  },
  {
   "cell_type": "markdown",
   "metadata": {},
   "source": [
    "**Question 3.** You were asked to write a function to remove outliers in the data. Explain the difference between the following two procedures:\n",
    "1. Remove outliers within each quarter first, then combine the data into a master dataframe.\n",
    "2. Combine all of the data into a master dataframe, then call the function to remove outliers from the combined data.\n",
    "\n",
    "Is one of the above procedures preferred over the other? Justify your answer."
   ]
  },
  {
   "cell_type": "markdown",
   "metadata": {},
   "source": [
    "*Answer to Question 3*"
   ]
  },
  {
   "cell_type": "markdown",
   "metadata": {},
   "source": [
    "**Question 4.** We identified that there are many trips with the same pick up and drop off station. What are the plausible scenarios explaining the presence of these entries? What would be the expected charactertics of the data features, if any, for each scenario?"
   ]
  },
  {
   "cell_type": "markdown",
   "metadata": {},
   "source": [
    "*Answer to Question 4*"
   ]
  },
  {
   "cell_type": "markdown",
   "metadata": {},
   "source": [
    "**Question 5.** Based on your findings in Lab 1.1, articulate at least three research questions that would be intereting to investigate further. Explain why exploring these questions would be interesting. For instance, we identified that there is a sheer number of trips of very short duration. What would be interesting follow-up questions? Describe what additional data you would need to answer these questions, where it applies."
   ]
  },
  {
   "cell_type": "markdown",
   "metadata": {},
   "source": [
    "*Answer to Question 5*"
   ]
  },
  {
   "cell_type": "markdown",
   "metadata": {},
   "source": [
    "**Question 6.** How was your experience working with your groupmate? Even if your experience was very positive, can you think of ways teamwork could result in an even better experience in the future?"
   ]
  },
  {
   "cell_type": "markdown",
   "metadata": {},
   "source": [
    "*Answer to Question 6*"
   ]
  },
  {
   "cell_type": "markdown",
   "metadata": {},
   "source": [
    "**Open comments.** Feel free to share any other comments with your instructors regarding this laboratory (or beyond)."
   ]
  },
  {
   "cell_type": "markdown",
   "metadata": {},
   "source": [
    " # <p style=\"background-color: #EEEEEE;text-align:center;padding-top: 15px;padding-bottom: 15px;\" >Submission and Grading </p>\n",
    " \n",
    "## Submission\n",
    "\n",
    "**What should be submitted to Github Classroom?**\n",
    "\n",
    "Commit and push your files on the Github Classroom repository, including:\n",
    "\n",
    "* A Jupyter notebook with your answers.\n",
    "\n",
    "* Additional files that your notebook requires to compile properly (e.g. an image file).\n",
    "\n",
    "* A report from your Jupyter notebook exported as an html file. This can be done using [nbconvert](https://nbconvert.readthedocs.io/).\n",
    "\n",
    "\n",
    "**What should be submitted to Quercus?**\n",
    "* A pdf version of your Jupyter notebook (print this notebook to pdf).\n",
    "\n",
    "\n",
    "**When should it be submitted?**\n",
    "* Upload your completed assignment by 12:00pm (noon), on January 13.\n",
    "\n",
    "\n",
    "\n",
    "## Grading\n",
    "\n",
    "Laboratory 1.2. grading rubric is as follows (also available [here](https://jsc270.github.io/tut_grading.html#reflection)).\n",
    "\n",
    "Note that marks will be deduced for the following reasons: notebook doesn't compile; files are missingl; instructions are not followed.\n",
    "\n",
    "|Category|5|4|3|2|1|\n",
    "|---|:---:|:---:|:---:|:---:|:---:|\n",
    "|**Depth of reflections <br> (10 pts)** | Response demonstrates an in-depth reflection on, and personalization of, the theories, concepts, and/or strategies presented in the course materials to date. Viewpoints and interpretations are insightful and well supported. Clear, detailed examples are provided, as applicable.| Response demonstrates a thoughtful reflection on, and personalization of, the theories, concepts, and/or strategies presented in the course materials to date. Viewpoints and interpretations are generally supported.  Appropriate examples are genterally provided, as applicable.| Response demonstrates a limited reflection on, and personalization of, the theories, concepts, and/or strategies presented in the course materials to date. Viewpoints and interpretations are sometimes usupported.  Appropriate examples are provided, as applicable. | Response demonstrates a minimal reflection on, and personalization of, the theories, concepts, and/or strategies presented in the course materials to date. Some viewpoints and interpretations are unsupported or supported with flawed arguments. Some examples, when applicable, are not provided or are irrelevant to the assignment.| Response demonstrates a lack of reflection on, or personalization of, the theories, concepts, and/or strategies presented in the course materials to date. Viewpoints and interpretations are missing, inappropriate, and/or unsupported. Examples, when applicable, are not provided.\n",
    "|**Writing quality <br> (5 pts)** | Writing is clear, concise, and well organized with excellent sentence/paragraph construction. Thoughts are expressed in a coherent and logical manner. There are no more than three spelling, grammar, or syntax errors. | Writing is mostly clear, concise, and well organized with good sentence/paragraph construction. Thoughts are expressed in a coherent and logical manner. There are no more than five spelling, grammar, or syntax errors. | Writing is sometimes unclear and/or disorganized. Thoughts are not always expressed in a logical manner. There are more than five spelling, grammar, or syntax errors. | Writing is unclear and/or disorganized. Thoughts are not expressed in a logical manner. There are more than five spelling, grammar, or syntax errors. | Writing is unclear and disorganized. Thoughts ramble and make little sense. There are numerous spelling, grammar, or syntax errors throughout the response.|"
   ]
  }
 ],
 "metadata": {
  "kernelspec": {
   "display_name": "Python 3",
   "language": "python",
   "name": "python3"
  },
  "language_info": {
   "codemirror_mode": {
    "name": "ipython",
    "version": 3
   },
   "file_extension": ".py",
   "mimetype": "text/x-python",
   "name": "python",
   "nbconvert_exporter": "python",
   "pygments_lexer": "ipython3",
   "version": "3.7.6"
  }
 },
 "nbformat": 4,
 "nbformat_minor": 2
}
